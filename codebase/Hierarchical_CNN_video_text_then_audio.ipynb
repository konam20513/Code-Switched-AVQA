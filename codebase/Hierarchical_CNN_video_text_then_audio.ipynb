{
  "nbformat": 4,
  "nbformat_minor": 0,
  "metadata": {
    "colab": {
      "provenance": []
    },
    "kernelspec": {
      "name": "python3",
      "display_name": "Python 3"
    },
    "language_info": {
      "name": "python"
    }
  },
  "cells": [
    {
      "cell_type": "code",
      "execution_count": 1,
      "metadata": {
        "colab": {
          "base_uri": "https://localhost:8080/"
        },
        "id": "IxtO4tZZUIA3",
        "outputId": "13f40301-f485-492a-f5ee-8be915bdba64"
      },
      "outputs": [
        {
          "output_type": "stream",
          "name": "stdout",
          "text": [
            "Model: \"model\"\n",
            "__________________________________________________________________________________________________\n",
            " Layer (type)                Output Shape                 Param #   Connected to                  \n",
            "==================================================================================================\n",
            " input_1 (InputLayer)        [(None, 768, 1)]             0         []                            \n",
            "                                                                                                  \n",
            " input_2 (InputLayer)        [(None, 768, 1)]             0         []                            \n",
            "                                                                                                  \n",
            " conv1d (Conv1D)             (None, 768, 32)              128       ['input_1[0][0]']             \n",
            "                                                                                                  \n",
            " conv1d_1 (Conv1D)           (None, 768, 32)              128       ['input_2[0][0]']             \n",
            "                                                                                                  \n",
            " input_3 (InputLayer)        [(None, 768, 1)]             0         []                            \n",
            "                                                                                                  \n",
            " max_pooling1d (MaxPooling1  (None, 384, 32)              0         ['conv1d[0][0]']              \n",
            " D)                                                                                               \n",
            "                                                                                                  \n",
            " max_pooling1d_1 (MaxPoolin  (None, 384, 32)              0         ['conv1d_1[0][0]']            \n",
            " g1D)                                                                                             \n",
            "                                                                                                  \n",
            " conv1d_2 (Conv1D)           (None, 768, 32)              128       ['input_3[0][0]']             \n",
            "                                                                                                  \n",
            " flatten (Flatten)           (None, 12288)                0         ['max_pooling1d[0][0]']       \n",
            "                                                                                                  \n",
            " flatten_1 (Flatten)         (None, 12288)                0         ['max_pooling1d_1[0][0]']     \n",
            "                                                                                                  \n",
            " max_pooling1d_2 (MaxPoolin  (None, 384, 32)              0         ['conv1d_2[0][0]']            \n",
            " g1D)                                                                                             \n",
            "                                                                                                  \n",
            " concatenate (Concatenate)   (None, 24576)                0         ['flatten[0][0]',             \n",
            "                                                                     'flatten_1[0][0]']           \n",
            "                                                                                                  \n",
            " flatten_2 (Flatten)         (None, 12288)                0         ['max_pooling1d_2[0][0]']     \n",
            "                                                                                                  \n",
            " concatenate_1 (Concatenate  (None, 36864)                0         ['concatenate[0][0]',         \n",
            " )                                                                   'flatten_2[0][0]']           \n",
            "                                                                                                  \n",
            " dense (Dense)               (None, 200)                  7373000   ['concatenate_1[0][0]']       \n",
            "                                                                                                  \n",
            " batch_normalization (Batch  (None, 200)                  800       ['dense[0][0]']               \n",
            " Normalization)                                                                                   \n",
            "                                                                                                  \n",
            " dense_1 (Dense)             (None, 90)                   18090     ['batch_normalization[0][0]'] \n",
            "                                                                                                  \n",
            " dropout (Dropout)           (None, 90)                   0         ['dense_1[0][0]']             \n",
            "                                                                                                  \n",
            " dense_2 (Dense)             (None, 56)                   5096      ['dropout[0][0]']             \n",
            "                                                                                                  \n",
            " dense_3 (Dense)             (None, 2)                    114       ['dense_2[0][0]']             \n",
            "                                                                                                  \n",
            "==================================================================================================\n",
            "Total params: 7397484 (28.22 MB)\n",
            "Trainable params: 7397084 (28.22 MB)\n",
            "Non-trainable params: 400 (1.56 KB)\n",
            "__________________________________________________________________________________________________\n"
          ]
        }
      ],
      "source": [
        "import tensorflow as tf\n",
        "\n",
        "def create_model_video_text_then_audio():\n",
        "    input_video = tf.keras.Input(shape=[768, 1])\n",
        "    video_cnn = tf.keras.layers.Conv1D(32, 3, activation='relu', padding='same')(input_video)\n",
        "    video_cnn = tf.keras.layers.MaxPooling1D()(video_cnn)\n",
        "    video_cnn = tf.keras.layers.Flatten()(video_cnn)\n",
        "\n",
        "    input_text = tf.keras.Input(shape=[768, 1])\n",
        "    text_cnn = tf.keras.layers.Conv1D(32, 3, activation='relu', padding='same')(input_text)\n",
        "    text_cnn = tf.keras.layers.MaxPooling1D()(text_cnn)\n",
        "    text_cnn = tf.keras.layers.Flatten()(text_cnn)\n",
        "\n",
        "    concatenated_video_text = tf.keras.layers.Concatenate(axis=1)([video_cnn, text_cnn])\n",
        "\n",
        "    input_audio = tf.keras.Input(shape=[768, 1])\n",
        "    audio_cnn = tf.keras.layers.Conv1D(32, 3, activation='relu', padding='same')(input_audio)\n",
        "    audio_cnn = tf.keras.layers.MaxPooling1D()(audio_cnn)\n",
        "    audio_cnn = tf.keras.layers.Flatten()(audio_cnn)\n",
        "\n",
        "    concatenated_all = tf.keras.layers.Concatenate(axis=1)([concatenated_video_text, audio_cnn])\n",
        "\n",
        "    x = tf.keras.layers.Dense(200, activation='relu')(concatenated_all)\n",
        "    x = tf.keras.layers.BatchNormalization()(x)\n",
        "    x = tf.keras.layers.Dense(90, activation='relu')(x)\n",
        "    x = tf.keras.layers.Dropout(0.2)(x)\n",
        "    x = tf.keras.layers.Dense(56, activation='relu')(x)\n",
        "    output = tf.keras.layers.Dense(2, activation='softmax')(x)\n",
        "\n",
        "    model = tf.keras.Model(inputs=[input_video, input_text, input_audio], outputs=output)\n",
        "    return model\n",
        "\n",
        "model_video_text_then_audio = create_model_video_text_then_audio()\n",
        "\n",
        "model_video_text_then_audio.summary()"
      ]
    }
  ]
}