{
  "nbformat": 4,
  "nbformat_minor": 0,
  "metadata": {
    "colab": {
      "provenance": []
    },
    "kernelspec": {
      "name": "python3",
      "display_name": "Python 3"
    },
    "language_info": {
      "name": "python"
    }
  },
  "cells": [
    {
      "cell_type": "code",
      "execution_count": 2,
      "metadata": {
        "colab": {
          "base_uri": "https://localhost:8080/"
        },
        "id": "65iPBuJFTUJf",
        "outputId": "c3ee8099-b3ec-442b-9797-b1e8e1f8cd92"
      },
      "outputs": [
        {
          "output_type": "stream",
          "name": "stdout",
          "text": [
            "Model: \"model_1\"\n",
            "__________________________________________________________________________________________________\n",
            " Layer (type)                Output Shape                 Param #   Connected to                  \n",
            "==================================================================================================\n",
            " input_4 (InputLayer)        [(None, 768, 1)]             0         []                            \n",
            "                                                                                                  \n",
            " input_5 (InputLayer)        [(None, 768, 1)]             0         []                            \n",
            "                                                                                                  \n",
            " conv1d_3 (Conv1D)           (None, 768, 32)              128       ['input_4[0][0]']             \n",
            "                                                                                                  \n",
            " conv1d_4 (Conv1D)           (None, 768, 32)              128       ['input_5[0][0]']             \n",
            "                                                                                                  \n",
            " input_6 (InputLayer)        [(None, 768, 1)]             0         []                            \n",
            "                                                                                                  \n",
            " max_pooling1d_3 (MaxPoolin  (None, 384, 32)              0         ['conv1d_3[0][0]']            \n",
            " g1D)                                                                                             \n",
            "                                                                                                  \n",
            " max_pooling1d_4 (MaxPoolin  (None, 384, 32)              0         ['conv1d_4[0][0]']            \n",
            " g1D)                                                                                             \n",
            "                                                                                                  \n",
            " conv1d_5 (Conv1D)           (None, 768, 32)              128       ['input_6[0][0]']             \n",
            "                                                                                                  \n",
            " flatten_3 (Flatten)         (None, 12288)                0         ['max_pooling1d_3[0][0]']     \n",
            "                                                                                                  \n",
            " flatten_4 (Flatten)         (None, 12288)                0         ['max_pooling1d_4[0][0]']     \n",
            "                                                                                                  \n",
            " max_pooling1d_5 (MaxPoolin  (None, 384, 32)              0         ['conv1d_5[0][0]']            \n",
            " g1D)                                                                                             \n",
            "                                                                                                  \n",
            " concatenate_2 (Concatenate  (None, 24576)                0         ['flatten_3[0][0]',           \n",
            " )                                                                   'flatten_4[0][0]']           \n",
            "                                                                                                  \n",
            " flatten_5 (Flatten)         (None, 12288)                0         ['max_pooling1d_5[0][0]']     \n",
            "                                                                                                  \n",
            " concatenate_3 (Concatenate  (None, 36864)                0         ['concatenate_2[0][0]',       \n",
            " )                                                                   'flatten_5[0][0]']           \n",
            "                                                                                                  \n",
            " dense_4 (Dense)             (None, 200)                  7373000   ['concatenate_3[0][0]']       \n",
            "                                                                                                  \n",
            " batch_normalization_1 (Bat  (None, 200)                  800       ['dense_4[0][0]']             \n",
            " chNormalization)                                                                                 \n",
            "                                                                                                  \n",
            " dense_5 (Dense)             (None, 90)                   18090     ['batch_normalization_1[0][0]'\n",
            "                                                                    ]                             \n",
            "                                                                                                  \n",
            " dropout_1 (Dropout)         (None, 90)                   0         ['dense_5[0][0]']             \n",
            "                                                                                                  \n",
            " dense_6 (Dense)             (None, 56)                   5096      ['dropout_1[0][0]']           \n",
            "                                                                                                  \n",
            " dense_7 (Dense)             (None, 2)                    114       ['dense_6[0][0]']             \n",
            "                                                                                                  \n",
            "==================================================================================================\n",
            "Total params: 7397484 (28.22 MB)\n",
            "Trainable params: 7397084 (28.22 MB)\n",
            "Non-trainable params: 400 (1.56 KB)\n",
            "__________________________________________________________________________________________________\n"
          ]
        }
      ],
      "source": [
        "import tensorflow as tf\n",
        "\n",
        "def create_model_video_audio_then_text():\n",
        "    input_video = tf.keras.Input(shape=[768, 1])\n",
        "    video_cnn = tf.keras.layers.Conv1D(32, 3, activation='relu', padding='same')(input_video)\n",
        "    video_cnn = tf.keras.layers.MaxPooling1D()(video_cnn)\n",
        "    video_cnn = tf.keras.layers.Flatten()(video_cnn)\n",
        "\n",
        "    input_audio = tf.keras.Input(shape=[768, 1])\n",
        "    audio_cnn = tf.keras.layers.Conv1D(32, 3, activation='relu', padding='same')(input_audio)\n",
        "    audio_cnn = tf.keras.layers.MaxPooling1D()(audio_cnn)\n",
        "    audio_cnn = tf.keras.layers.Flatten()(audio_cnn)\n",
        "\n",
        "    concatenated_video_audio = tf.keras.layers.Concatenate(axis=1)([video_cnn, audio_cnn])\n",
        "\n",
        "    input_text = tf.keras.Input(shape=[768, 1])\n",
        "    text_cnn = tf.keras.layers.Conv1D(32, 3, activation='relu', padding='same')(input_text)\n",
        "    text_cnn = tf.keras.layers.MaxPooling1D()(text_cnn)\n",
        "    text_cnn = tf.keras.layers.Flatten()(text_cnn)\n",
        "\n",
        "    concatenated_all = tf.keras.layers.Concatenate(axis=1)([concatenated_video_audio, text_cnn])\n",
        "\n",
        "    x = tf.keras.layers.Dense(200, activation='relu')(concatenated_all)\n",
        "    x = tf.keras.layers.BatchNormalization()(x)\n",
        "    x = tf.keras.layers.Dense(90, activation='relu')(x)\n",
        "    x = tf.keras.layers.Dropout(0.2)(x)\n",
        "    x = tf.keras.layers.Dense(56, activation='relu')(x)\n",
        "    output = tf.keras.layers.Dense(2, activation='softmax')(x)\n",
        "\n",
        "    model = tf.keras.Model(inputs=[input_video, input_audio, input_text], outputs=output)\n",
        "    return model\n",
        "\n",
        "model_video_audio_then_text = create_model_video_audio_then_text()\n",
        "\n",
        "model_video_audio_then_text.summary()\n"
      ]
    }
  ]
}